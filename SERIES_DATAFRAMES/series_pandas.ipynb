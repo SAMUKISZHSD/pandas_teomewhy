{
 "cells": [
  {
   "cell_type": "code",
   "execution_count": 2,
   "id": "d84f2d28",
   "metadata": {},
   "outputs": [],
   "source": [
    "import pandas as pd"
   ]
  },
  {
   "cell_type": "code",
   "execution_count": 3,
   "id": "63947445",
   "metadata": {},
   "outputs": [
    {
     "data": {
      "text/plain": [
       "[30, 42, 90, 34]"
      ]
     },
     "execution_count": 3,
     "metadata": {},
     "output_type": "execute_result"
    }
   ],
   "source": [
    "\n",
    "idades = [30, 42, 90, 34]\n",
    "idades"
   ]
  },
  {
   "cell_type": "code",
   "execution_count": 4,
   "id": "f7158401",
   "metadata": {},
   "outputs": [
    {
     "data": {
      "text/plain": [
       "0    30\n",
       "1    42\n",
       "2    90\n",
       "3    34\n",
       "dtype: int64"
      ]
     },
     "execution_count": 4,
     "metadata": {},
     "output_type": "execute_result"
    }
   ],
   "source": [
    "# Transformação para séries Pandas\n",
    "series_idades = pd.Series(idades)\n",
    "series_idades"
   ]
  },
  {
   "cell_type": "code",
   "execution_count": 5,
   "id": "29db2fda",
   "metadata": {},
   "outputs": [
    {
     "data": {
      "text/plain": [
       "772.0"
      ]
     },
     "execution_count": 5,
     "metadata": {},
     "output_type": "execute_result"
    }
   ],
   "source": [
    "series_idades.var()"
   ]
  },
  {
   "cell_type": "code",
   "execution_count": 6,
   "id": "0f419de1",
   "metadata": {},
   "outputs": [
    {
     "data": {
      "text/plain": [
       "np.float64(49.0)"
      ]
     },
     "execution_count": 6,
     "metadata": {},
     "output_type": "execute_result"
    }
   ],
   "source": [
    "series_idades.mean()"
   ]
  },
  {
   "cell_type": "code",
   "execution_count": 7,
   "id": "894282e9",
   "metadata": {},
   "outputs": [
    {
     "data": {
      "text/plain": [
       "38.0"
      ]
     },
     "execution_count": 7,
     "metadata": {},
     "output_type": "execute_result"
    }
   ],
   "source": [
    "series_idades.median()"
   ]
  },
  {
   "cell_type": "code",
   "execution_count": 8,
   "id": "897aae2b",
   "metadata": {},
   "outputs": [
    {
     "data": {
      "text/plain": [
       "27.784887978899608"
      ]
     },
     "execution_count": 8,
     "metadata": {},
     "output_type": "execute_result"
    }
   ],
   "source": [
    "series_idades.std()"
   ]
  },
  {
   "cell_type": "code",
   "execution_count": 11,
   "id": "1e0ed29c",
   "metadata": {},
   "outputs": [
    {
     "data": {
      "text/plain": [
       "count     4.00\n",
       "mean     49.00\n",
       "std      27.78\n",
       "min      30.00\n",
       "25%      33.00\n",
       "50%      38.00\n",
       "75%      54.00\n",
       "max      90.00\n",
       "dtype: float64"
      ]
     },
     "execution_count": 11,
     "metadata": {},
     "output_type": "execute_result"
    }
   ],
   "source": [
    "series_idades.describe().round(2)"
   ]
  },
  {
   "cell_type": "markdown",
   "id": "d96751ee",
   "metadata": {},
   "source": [
    "- count = Quantidade de dados\n",
    "- mean = Media\n",
    "- std = Desvio padrão\n",
    "- min = Minimo\n",
    "- 25% = Primeiro quartil\n",
    "- 50% = Segundo quartil\n",
    "- 75% = Terceiro quartil\n",
    "- max = Maximo"
   ]
  },
  {
   "cell_type": "code",
   "execution_count": 12,
   "id": "e23d09ce",
   "metadata": {},
   "outputs": [
    {
     "data": {
      "text/plain": [
       "(4,)"
      ]
     },
     "execution_count": 12,
     "metadata": {},
     "output_type": "execute_result"
    }
   ],
   "source": [
    "series_idades.shape"
   ]
  }
 ],
 "metadata": {
  "kernelspec": {
   "display_name": "base",
   "language": "python",
   "name": "python3"
  },
  "language_info": {
   "codemirror_mode": {
    "name": "ipython",
    "version": 3
   },
   "file_extension": ".py",
   "mimetype": "text/x-python",
   "name": "python",
   "nbconvert_exporter": "python",
   "pygments_lexer": "ipython3",
   "version": "3.13.5"
  }
 },
 "nbformat": 4,
 "nbformat_minor": 5
}
